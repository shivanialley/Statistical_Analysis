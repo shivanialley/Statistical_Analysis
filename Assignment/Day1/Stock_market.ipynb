{
  "cells": [
    {
      "cell_type": "markdown",
      "source": [
        "#----------------------------------------------------------------------\n",
        "#Institute : CDAC Bangalore\n",
        "#-----------------------------------------------------------------------\n",
        "#Abstract : Stock Market example for covariance & correlation\n",
        "#----------------------------------------------------------------------\n",
        "#Author : Shivani Garg\n",
        "#-----------------------------------------------------------------------"
      ],
      "metadata": {
        "id": "6riDMtB7YEdh"
      },
      "id": "6riDMtB7YEdh"
    },
    {
      "cell_type": "code",
      "execution_count": null,
      "id": "3de89602-6e03-45ae-a973-a49b8b0c1187",
      "metadata": {
        "id": "3de89602-6e03-45ae-a973-a49b8b0c1187",
        "outputId": "d97951e5-3421-4b76-b976-e386ce35460d"
      },
      "outputs": [
        {
          "name": "stdout",
          "output_type": "stream",
          "text": [
            "    X  Y\n",
            "0  30  5\n",
            "1  35  8\n",
            "2  40  8\n",
            "3  25  4\n",
            "4  35  5\n"
          ]
        }
      ],
      "source": [
        "import numpy as np\n",
        "import pandas as pd\n",
        "x=np.array([30,35,40,25,35])\n",
        "y=np.array([5,8,8,4,5])\n",
        "data = pd.DataFrame({'X':x,'Y':y})\n",
        "print(data)"
      ]
    },
    {
      "cell_type": "code",
      "execution_count": null,
      "id": "3980d3c7-3dde-4364-96fd-752d536228b2",
      "metadata": {
        "id": "3980d3c7-3dde-4364-96fd-752d536228b2",
        "outputId": "d6db33c4-14af-4704-8e13-24db0e89e786"
      },
      "outputs": [
        {
          "data": {
            "text/plain": [
              "array([[32.5 ,  8.75],\n",
              "       [ 8.75,  3.5 ]])"
            ]
          },
          "execution_count": 2,
          "metadata": {},
          "output_type": "execute_result"
        }
      ],
      "source": [
        "cov_matrix=np.cov(data['X'],data['Y'])\n",
        "cov_matrix"
      ]
    },
    {
      "cell_type": "code",
      "execution_count": null,
      "id": "269f5782-4b7e-4329-a745-ab174ae26265",
      "metadata": {
        "id": "269f5782-4b7e-4329-a745-ab174ae26265",
        "outputId": "da3d2ae2-b181-43db-c1b7-e17b519946dd"
      },
      "outputs": [
        {
          "data": {
            "text/plain": [
              "8.75"
            ]
          },
          "execution_count": 3,
          "metadata": {},
          "output_type": "execute_result"
        }
      ],
      "source": [
        "covariance = cov_matrix[0, 1]\n",
        "covariance"
      ]
    },
    {
      "cell_type": "code",
      "execution_count": null,
      "id": "033faf92-86d5-4d0d-a34d-4c753d0f2734",
      "metadata": {
        "id": "033faf92-86d5-4d0d-a34d-4c753d0f2734",
        "outputId": "22e34206-7944-4e62-aea3-eb230090d086"
      },
      "outputs": [
        {
          "data": {
            "text/html": [
              "<div>\n",
              "<style scoped>\n",
              "    .dataframe tbody tr th:only-of-type {\n",
              "        vertical-align: middle;\n",
              "    }\n",
              "\n",
              "    .dataframe tbody tr th {\n",
              "        vertical-align: top;\n",
              "    }\n",
              "\n",
              "    .dataframe thead th {\n",
              "        text-align: right;\n",
              "    }\n",
              "</style>\n",
              "<table border=\"1\" class=\"dataframe\">\n",
              "  <thead>\n",
              "    <tr style=\"text-align: right;\">\n",
              "      <th></th>\n",
              "      <th>X</th>\n",
              "      <th>Y</th>\n",
              "    </tr>\n",
              "  </thead>\n",
              "  <tbody>\n",
              "    <tr>\n",
              "      <th>X</th>\n",
              "      <td>32.50</td>\n",
              "      <td>8.75</td>\n",
              "    </tr>\n",
              "    <tr>\n",
              "      <th>Y</th>\n",
              "      <td>8.75</td>\n",
              "      <td>3.50</td>\n",
              "    </tr>\n",
              "  </tbody>\n",
              "</table>\n",
              "</div>"
            ],
            "text/plain": [
              "       X     Y\n",
              "X  32.50  8.75\n",
              "Y   8.75  3.50"
            ]
          },
          "execution_count": 4,
          "metadata": {},
          "output_type": "execute_result"
        }
      ],
      "source": [
        "cov_matrix=data.cov()\n",
        "cov_matrix"
      ]
    },
    {
      "cell_type": "code",
      "execution_count": null,
      "id": "38d3cd73-f04a-4a5f-ab8d-930298d902ed",
      "metadata": {
        "id": "38d3cd73-f04a-4a5f-ab8d-930298d902ed",
        "outputId": "1c196e4f-6c94-4b43-c075-ed734fa48270"
      },
      "outputs": [
        {
          "data": {
            "text/plain": [
              "array([[1.        , 0.82041265],\n",
              "       [0.82041265, 1.        ]])"
            ]
          },
          "execution_count": 6,
          "metadata": {},
          "output_type": "execute_result"
        }
      ],
      "source": [
        "cor_matrix = np.corrcoef(data['X'], data['Y'])\n",
        "cor_matrix"
      ]
    },
    {
      "cell_type": "code",
      "execution_count": null,
      "id": "c878cf9f-6617-4071-a3eb-cf562d3994a3",
      "metadata": {
        "id": "c878cf9f-6617-4071-a3eb-cf562d3994a3",
        "outputId": "fb250b15-62f1-4cb0-d7b2-27e07fef2d9d"
      },
      "outputs": [
        {
          "data": {
            "text/plain": [
              "0.8204126541423671"
            ]
          },
          "execution_count": 7,
          "metadata": {},
          "output_type": "execute_result"
        }
      ],
      "source": [
        "correlation = cor_matrix[0,1]\n",
        "correlation"
      ]
    },
    {
      "cell_type": "code",
      "execution_count": null,
      "id": "5906957d-d064-4336-9dcd-8abccb0ce061",
      "metadata": {
        "id": "5906957d-d064-4336-9dcd-8abccb0ce061",
        "outputId": "790349bf-22a8-4015-ec55-4e16b516456b"
      },
      "outputs": [
        {
          "data": {
            "text/html": [
              "<div>\n",
              "<style scoped>\n",
              "    .dataframe tbody tr th:only-of-type {\n",
              "        vertical-align: middle;\n",
              "    }\n",
              "\n",
              "    .dataframe tbody tr th {\n",
              "        vertical-align: top;\n",
              "    }\n",
              "\n",
              "    .dataframe thead th {\n",
              "        text-align: right;\n",
              "    }\n",
              "</style>\n",
              "<table border=\"1\" class=\"dataframe\">\n",
              "  <thead>\n",
              "    <tr style=\"text-align: right;\">\n",
              "      <th></th>\n",
              "      <th>X</th>\n",
              "      <th>Y</th>\n",
              "    </tr>\n",
              "  </thead>\n",
              "  <tbody>\n",
              "    <tr>\n",
              "      <th>X</th>\n",
              "      <td>1.000000</td>\n",
              "      <td>0.820413</td>\n",
              "    </tr>\n",
              "    <tr>\n",
              "      <th>Y</th>\n",
              "      <td>0.820413</td>\n",
              "      <td>1.000000</td>\n",
              "    </tr>\n",
              "  </tbody>\n",
              "</table>\n",
              "</div>"
            ],
            "text/plain": [
              "          X         Y\n",
              "X  1.000000  0.820413\n",
              "Y  0.820413  1.000000"
            ]
          },
          "execution_count": 8,
          "metadata": {},
          "output_type": "execute_result"
        }
      ],
      "source": [
        "cov_matrix=data.corr()\n",
        "cov_matrix"
      ]
    },
    {
      "cell_type": "code",
      "execution_count": null,
      "id": "fce60ebf-64db-4708-87b5-27af2a905136",
      "metadata": {
        "id": "fce60ebf-64db-4708-87b5-27af2a905136",
        "outputId": "27b443ce-98f3-4169-a00a-7d030440785a"
      },
      "outputs": [
        {
          "data": {
            "text/plain": [
              "0.8204126541423671"
            ]
          },
          "execution_count": 9,
          "metadata": {},
          "output_type": "execute_result"
        }
      ],
      "source": [
        "correlation = cor_matrix[0,1]\n",
        "correlation"
      ]
    }
  ],
  "metadata": {
    "kernelspec": {
      "display_name": "Python 3 (ipykernel)",
      "language": "python",
      "name": "python3"
    },
    "language_info": {
      "codemirror_mode": {
        "name": "ipython",
        "version": 3
      },
      "file_extension": ".py",
      "mimetype": "text/x-python",
      "name": "python",
      "nbconvert_exporter": "python",
      "pygments_lexer": "ipython3",
      "version": "3.9.13"
    },
    "colab": {
      "provenance": []
    }
  },
  "nbformat": 4,
  "nbformat_minor": 5
}