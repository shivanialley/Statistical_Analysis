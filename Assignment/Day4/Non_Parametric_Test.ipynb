{
  "nbformat": 4,
  "nbformat_minor": 0,
  "metadata": {
    "colab": {
      "provenance": []
    },
    "kernelspec": {
      "name": "python3",
      "display_name": "Python 3"
    },
    "language_info": {
      "name": "python"
    }
  },
  "cells": [
    {
      "cell_type": "markdown",
      "source": [
        "\n",
        "----------------------------------------------------------------------\n",
        "Institute : CDAC Bangalore\n",
        "-----------------------------------------------------------------------\n",
        "Abstract : Non Parametric Test\n",
        "----------------------------------------------------------------------\n",
        "Author : Shivani Garg\n",
        "-----------------------------------------------------------------------"
      ],
      "metadata": {
        "id": "FOdAx72HN_KS"
      }
    },
    {
      "cell_type": "markdown",
      "source": [
        "Chi-Square Square Goodness for fit test\n",
        "Ques)Hanuman Airlines (HA) operated daily flights to several Indian cities. One of the problems HA faces is the food preferences by the passengers. Captain Cook, the operations manager of HA, believes that 35% of their passengers prefer vegetarian food, 40% prefer non-vegetarian food, 20% low calorie food, and 5% request for diabetic food. A sample of 500 passengers was chosen to analyze the food preferences and the observed frequencies are as follows:\n",
        "1. Vegetarian: 190\n",
        "2. Non-vegetarian: 185\n",
        "3. Low-calorie: 90\n",
        "4. Diabetic: 35\n",
        "\n",
        "Conduct a chi-square test to check whether Captain Cook's belief is true at\n",
        "∝=0.05."
      ],
      "metadata": {
        "id": "-ER35lkYOJX3"
      }
    },
    {
      "cell_type": "code",
      "execution_count": 12,
      "metadata": {
        "id": "ybDAy22Z-ZgF",
        "colab": {
          "base_uri": "https://localhost:8080/"
        },
        "outputId": "7519b07b-5af5-46e3-fdb3-497640912f10"
      },
      "outputs": [
        {
          "output_type": "stream",
          "name": "stdout",
          "text": [
            "[175.0, 200.0, 100.0, 25.0]\n"
          ]
        }
      ],
      "source": [
        "f_obs = [190,185,90,35]\n",
        "f_exp = [500*0.35,500*0.4,500*0.2,500*0.05]\n",
        "print(f_exp)"
      ]
    },
    {
      "cell_type": "code",
      "source": [
        "from scipy import stats\n",
        "stats.chisquare(f_obs,f_exp)"
      ],
      "metadata": {
        "id": "XlA-kIRb-v_g",
        "colab": {
          "base_uri": "https://localhost:8080/"
        },
        "outputId": "dcedd168-dcd4-4901-ebba-f5716d1ea56c"
      },
      "execution_count": 13,
      "outputs": [
        {
          "output_type": "execute_result",
          "data": {
            "text/plain": [
              "Power_divergenceResult(statistic=7.410714285714286, pvalue=0.05989751420084909)"
            ]
          },
          "metadata": {},
          "execution_count": 13
        }
      ]
    },
    {
      "cell_type": "markdown",
      "source": [
        "Power_divergenceResult(statistic = 7.4107, pvalue = 0.0598)"
      ],
      "metadata": {
        "id": "ufQZZSvx-2Xu"
      }
    }
  ]
}